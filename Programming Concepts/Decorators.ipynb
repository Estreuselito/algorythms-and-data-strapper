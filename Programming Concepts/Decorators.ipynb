{
 "cells": [
  {
   "cell_type": "markdown",
   "metadata": {},
   "source": [
    "# This script will show how to use decorator functions\n",
    "\n",
    "*It is based on the idea of [this](https://medium.com/better-programming/python-decorators-5-advanced-features-to-know-17dd9be7517b) article.*"
   ]
  },
  {
   "cell_type": "code",
   "execution_count": 1,
   "metadata": {},
   "outputs": [],
   "source": [
    "import time"
   ]
  },
  {
   "cell_type": "code",
   "execution_count": 6,
   "metadata": {},
   "outputs": [],
   "source": [
    "def log_time(func):\n",
    "    \"\"\"Decorator that logs time\"\"\"\n",
    "    def logger(*args, **kwargs):\n",
    "        start = time.time()\n",
    "        func(*args, **kwargs)\n",
    "        print(f\"Calling {func.__name__}: {time.time() - start:.5f}\")\n",
    "        \n",
    "    return logger"
   ]
  },
  {
   "cell_type": "code",
   "execution_count": 7,
   "metadata": {},
   "outputs": [
    {
     "name": "stdout",
     "output_type": "stream",
     "text": [
      "Calling calc_sum: 0.00000\n"
     ]
    }
   ],
   "source": [
    "@log_time\n",
    "def calc_sum(n):\n",
    "    return sum(range(n))\n",
    "\n",
    "calc_sum(134)"
   ]
  },
  {
   "cell_type": "code",
   "execution_count": 8,
   "metadata": {},
   "outputs": [
    {
     "name": "stdout",
     "output_type": "stream",
     "text": [
      "Aloha, Yannik\n",
      "Calling say_hi: 0.00000\n"
     ]
    }
   ],
   "source": [
    "@log_time\n",
    "def say_hi(whom, greeting = \"Hello\"):\n",
    "    print(f\"{greeting}, {whom}\")\n",
    "    \n",
    "say_hi(\"Yannik\", greeting = \"Aloha\")"
   ]
  },
  {
   "cell_type": "code",
   "execution_count": null,
   "metadata": {},
   "outputs": [],
   "source": []
  }
 ],
 "metadata": {
  "kernelspec": {
   "display_name": "Python 3",
   "language": "python",
   "name": "python3"
  },
  "language_info": {
   "codemirror_mode": {
    "name": "ipython",
    "version": 3
   },
   "file_extension": ".py",
   "mimetype": "text/x-python",
   "name": "python",
   "nbconvert_exporter": "python",
   "pygments_lexer": "ipython3",
   "version": "3.8.5"
  }
 },
 "nbformat": 4,
 "nbformat_minor": 4
}
